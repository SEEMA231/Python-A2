{
 "cells": [
  {
   "cell_type": "code",
   "execution_count": 1,
   "id": "f0edbcfb-e102-42ef-b495-3ad1d893793b",
   "metadata": {},
   "outputs": [],
   "source": [
    "#Q1. How do you comment code in Python? What are the different types of comments?"
   ]
  },
  {
   "cell_type": "code",
   "execution_count": 4,
   "id": "1e99b631-4d16-4bfe-8991-0b0187029274",
   "metadata": {},
   "outputs": [],
   "source": [
    "#In Python, we can add comments to your code to provide explanations, Comments are ignored by the Python interpreter in coading and are not executed as part of the program.\n",
    "#There are 2 types of comments in Python: \n",
    "#1 single-line comments = Single line comments start with '#' and continue until the end of the line and They are used to add comments on a single line.\n",
    "#2 multi-line comments = Multi-line comments are used to provide more extensive comments spanning multiple lines. They are enclosed between triple quotes and can span multiple lines"
   ]
  },
  {
   "cell_type": "code",
   "execution_count": 5,
   "id": "67d08da4-6be3-46c2-9932-c47b77723b9c",
   "metadata": {},
   "outputs": [],
   "source": [
    "#Q2. What are variables in Python? How do you declare and assign values to variables?"
   ]
  },
  {
   "cell_type": "code",
   "execution_count": 6,
   "id": "87e52abf-9440-4b1d-8b1f-c415a57c9a8b",
   "metadata": {},
   "outputs": [],
   "source": [
    "#In Python, variables are used to store and manipulate data. A variable is like a container that holds a value, and it has a name that you can use to refer to that value.\n",
    "\n",
    "#To declare and assign a value to a variable in Python, you simply need to use the assignment operator.\n",
    "\n",
    "#Here's an example of declaring and assigning values to variables in Python:"
   ]
  },
  {
   "cell_type": "code",
   "execution_count": 9,
   "id": "7520373c-690d-464b-af6f-5fc35300257c",
   "metadata": {},
   "outputs": [
    {
     "name": "stdout",
     "output_type": "stream",
     "text": [
      "23\n",
      "sana\n",
      "True\n",
      "3.14\n"
     ]
    }
   ],
   "source": [
    "# Declaration and assignment\n",
    "age = 23\n",
    "name = \"sana\"\n",
    "is_student = True\n",
    "fee_due=7850.55\n",
    "\n",
    "# Printing the variables\n",
    "print(age)         \n",
    "print(name)        \n",
    "print(is_student)  \n",
    "print(pi)          \n"
   ]
  },
  {
   "cell_type": "code",
   "execution_count": 10,
   "id": "077733f5-e49c-4db5-b9cd-22ebb0867fc2",
   "metadata": {},
   "outputs": [],
   "source": [
    "#Q3. How do you convert one data type to another in Python?"
   ]
  },
  {
   "cell_type": "code",
   "execution_count": 14,
   "id": "2ffb03bc-c1a7-4d17-a600-e83a8f8311a8",
   "metadata": {},
   "outputs": [],
   "source": [
    "a=1"
   ]
  },
  {
   "cell_type": "code",
   "execution_count": 15,
   "id": "c763f719-be4d-4019-9e5e-04a90e0191e6",
   "metadata": {},
   "outputs": [
    {
     "data": {
      "text/plain": [
       "int"
      ]
     },
     "execution_count": 15,
     "metadata": {},
     "output_type": "execute_result"
    }
   ],
   "source": [
    "type(a)"
   ]
  },
  {
   "cell_type": "code",
   "execution_count": 16,
   "id": "d82cf793-17f1-4f31-b424-5b494e12eae2",
   "metadata": {},
   "outputs": [],
   "source": [
    "a=str(a)"
   ]
  },
  {
   "cell_type": "code",
   "execution_count": 17,
   "id": "4f9fb43d-1ae4-4120-8535-47142146a631",
   "metadata": {},
   "outputs": [
    {
     "data": {
      "text/plain": [
       "str"
      ]
     },
     "execution_count": 17,
     "metadata": {},
     "output_type": "execute_result"
    }
   ],
   "source": [
    "type(a)"
   ]
  },
  {
   "cell_type": "code",
   "execution_count": 18,
   "id": "b448b6a2-a807-4fd1-99b6-1c8a0377217d",
   "metadata": {},
   "outputs": [],
   "source": [
    "#Q4. How do you write and execute a Python script from the command line?"
   ]
  },
  {
   "cell_type": "code",
   "execution_count": 19,
   "id": "a07cac9a-24d9-499a-8727-5ea73a26b93b",
   "metadata": {},
   "outputs": [],
   "source": [
    "#Ans= shift+enter"
   ]
  },
  {
   "cell_type": "code",
   "execution_count": 20,
   "id": "16d49d65-b538-4691-a7ab-ca040abd6320",
   "metadata": {},
   "outputs": [],
   "source": [
    "# Q5, Given a list my_list = [1, 2, 3, 4, 5], write the code to slice the list and obtain the sub-list [2, 3]."
   ]
  },
  {
   "cell_type": "code",
   "execution_count": 21,
   "id": "2de9a2ae-879a-45c8-abc2-9f53949bf3d3",
   "metadata": {},
   "outputs": [],
   "source": [
    "my_list=[1,2,3,4,5]"
   ]
  },
  {
   "cell_type": "code",
   "execution_count": 22,
   "id": "b07d89e2-6f1a-4647-b1b8-52b7053494e0",
   "metadata": {},
   "outputs": [
    {
     "data": {
      "text/plain": [
       "[2, 3]"
      ]
     },
     "execution_count": 22,
     "metadata": {},
     "output_type": "execute_result"
    }
   ],
   "source": [
    "my_list[1:3]"
   ]
  },
  {
   "cell_type": "code",
   "execution_count": 24,
   "id": "3f88067a-86d7-4761-8a8e-e89263495405",
   "metadata": {},
   "outputs": [],
   "source": [
    "#In mathematics a complex number is a number that consists of a real part and an imaginary part. It is represented in the form a + bi, where a is the real number, b is the imaginary number, and i is the imaginary unit. \n",
    "#Complex numbers are used to represent quantities that involve both real and imaginary components."
   ]
  },
  {
   "cell_type": "code",
   "execution_count": 25,
   "id": "4d6e51a5-1e77-42c0-b970-7721ba7a1154",
   "metadata": {},
   "outputs": [],
   "source": [
    "#In Python, complex numbers are also supported as a built-in data type. They can be represented using the complex() function or by directly specifying the real and imaginary parts."
   ]
  },
  {
   "cell_type": "code",
   "execution_count": 26,
   "id": "c54e8093-4230-4334-b68b-ad86f37a8eff",
   "metadata": {},
   "outputs": [],
   "source": [
    "complex_number=7+5j\n",
    "#Where 7 is real no. and imaginery no. "
   ]
  },
  {
   "cell_type": "code",
   "execution_count": 27,
   "id": "412c05f5-45c8-48ea-abc1-ea86149f129d",
   "metadata": {},
   "outputs": [
    {
     "data": {
      "text/plain": [
       "7.0"
      ]
     },
     "execution_count": 27,
     "metadata": {},
     "output_type": "execute_result"
    }
   ],
   "source": [
    "complex_number.real"
   ]
  },
  {
   "cell_type": "code",
   "execution_count": 31,
   "id": "ffd805cc-19b5-4cd0-ab76-3934ba1535cd",
   "metadata": {},
   "outputs": [
    {
     "data": {
      "text/plain": [
       "5.0"
      ]
     },
     "execution_count": 31,
     "metadata": {},
     "output_type": "execute_result"
    }
   ],
   "source": [
    "complex_number.imag"
   ]
  },
  {
   "cell_type": "code",
   "execution_count": 32,
   "id": "e63d0275-803f-476e-bca5-60127a8dd284",
   "metadata": {},
   "outputs": [],
   "source": [
    "#Q7. What is the correct way to declare a variable named age and assign the value 25 to it?"
   ]
  },
  {
   "cell_type": "code",
   "execution_count": 33,
   "id": "ccc0d9fe-d71a-42f4-80f6-e38b4aa20129",
   "metadata": {},
   "outputs": [],
   "source": [
    "age = 25"
   ]
  },
  {
   "cell_type": "code",
   "execution_count": 34,
   "id": "bfe0d341-d9aa-40ec-8883-eb612f5d27eb",
   "metadata": {},
   "outputs": [
    {
     "data": {
      "text/plain": [
       "25"
      ]
     },
     "execution_count": 34,
     "metadata": {},
     "output_type": "execute_result"
    }
   ],
   "source": [
    "age"
   ]
  },
  {
   "cell_type": "code",
   "execution_count": 35,
   "id": "f964259d-59b9-4f92-a4f9-aeb7e10cbd1b",
   "metadata": {},
   "outputs": [],
   "source": [
    "#Q8. Declare a variable named price and assign the value 9.99 to it. What data type does this variable belong to?"
   ]
  },
  {
   "cell_type": "code",
   "execution_count": 36,
   "id": "b884f5a6-7cd7-4fbc-af6a-f988892f33ed",
   "metadata": {},
   "outputs": [],
   "source": [
    "price=9.99"
   ]
  },
  {
   "cell_type": "code",
   "execution_count": 37,
   "id": "5703535a-a65a-4159-a35f-2cb28d23ea3d",
   "metadata": {},
   "outputs": [
    {
     "data": {
      "text/plain": [
       "float"
      ]
     },
     "execution_count": 37,
     "metadata": {},
     "output_type": "execute_result"
    }
   ],
   "source": [
    "type(price)"
   ]
  },
  {
   "cell_type": "code",
   "execution_count": 38,
   "id": "783a6438-9750-49ce-ae46-5a157ca3c976",
   "metadata": {},
   "outputs": [],
   "source": [
    "#Q9. Create a variable named name and assign your full name to it as a string. How would you print the value of this variable?"
   ]
  },
  {
   "cell_type": "code",
   "execution_count": 39,
   "id": "85bb3fcc-53bc-4d54-8332-ca4e95328b08",
   "metadata": {},
   "outputs": [],
   "source": [
    "name=(\"seema\")"
   ]
  },
  {
   "cell_type": "code",
   "execution_count": 40,
   "id": "863e893c-2221-424b-a88c-a0b9bdecd7b3",
   "metadata": {},
   "outputs": [
    {
     "name": "stdout",
     "output_type": "stream",
     "text": [
      "seema\n"
     ]
    }
   ],
   "source": [
    "print(name)"
   ]
  },
  {
   "cell_type": "code",
   "execution_count": 41,
   "id": "ea28836e-c6bd-4069-bb57-1d42db1312a6",
   "metadata": {},
   "outputs": [],
   "source": [
    "#Q10. Given the string \"Hello, World!\", extract the substring \"World\"."
   ]
  },
  {
   "cell_type": "code",
   "execution_count": 42,
   "id": "39805908-fa58-4bd1-a631-da8bcb7a0f2b",
   "metadata": {},
   "outputs": [],
   "source": [
    "new=(\"Hello,World\")"
   ]
  },
  {
   "cell_type": "code",
   "execution_count": 50,
   "id": "443b13af-0dc6-4db3-9eaa-c605b94946fc",
   "metadata": {},
   "outputs": [
    {
     "data": {
      "text/plain": [
       "'World'"
      ]
     },
     "execution_count": 50,
     "metadata": {},
     "output_type": "execute_result"
    }
   ],
   "source": [
    "new[-5::]"
   ]
  },
  {
   "cell_type": "code",
   "execution_count": 51,
   "id": "8a3d2077-81b4-4600-972f-759970c07d73",
   "metadata": {},
   "outputs": [],
   "source": [
    "#Q11. Create a variable named \"is_student\" and assign it a boolean value indicating whether you are currently a student or not."
   ]
  },
  {
   "cell_type": "code",
   "execution_count": 57,
   "id": "dff3e14c-377a-4bac-a3f1-f3f7ec88ae0e",
   "metadata": {},
   "outputs": [],
   "source": [
    "is_student=True"
   ]
  },
  {
   "cell_type": "code",
   "execution_count": 53,
   "id": "33acd584-24b2-41c4-96df-f3ecb2113ad3",
   "metadata": {},
   "outputs": [
    {
     "data": {
      "text/plain": [
       "bool"
      ]
     },
     "execution_count": 53,
     "metadata": {},
     "output_type": "execute_result"
    }
   ],
   "source": [
    "type(is_student)"
   ]
  },
  {
   "cell_type": "code",
   "execution_count": null,
   "id": "0708ba69-0ae6-41a6-867e-af47fbe3c3d7",
   "metadata": {},
   "outputs": [],
   "source": []
  }
 ],
 "metadata": {
  "kernelspec": {
   "display_name": "Python 3 (ipykernel)",
   "language": "python",
   "name": "python3"
  },
  "language_info": {
   "codemirror_mode": {
    "name": "ipython",
    "version": 3
   },
   "file_extension": ".py",
   "mimetype": "text/x-python",
   "name": "python",
   "nbconvert_exporter": "python",
   "pygments_lexer": "ipython3",
   "version": "3.10.8"
  }
 },
 "nbformat": 4,
 "nbformat_minor": 5
}
